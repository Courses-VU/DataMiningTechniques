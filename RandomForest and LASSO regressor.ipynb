{
 "cells": [
  {
   "cell_type": "code",
   "execution_count": 26,
   "metadata": {},
   "outputs": [],
   "source": [
    "import numpy as np\n",
    "import pandas as pd\n",
    "from sklearn.ensemble import RandomForestRegressor\n",
    "from sklearn.model_selection import cross_val_score, GridSearchCV, train_test_split, KFold\n",
    "from sklearn.metrics import mean_squared_error\n",
    "from sklearn import linear_model\n",
    "import matplotlib.pyplot as plt\n",
    "from sklearn.preprocessing import MinMaxScaler\n",
    "\n"
   ]
  },
  {
   "cell_type": "code",
   "execution_count": 2,
   "metadata": {
    "scrolled": true
   },
   "outputs": [
    {
     "data": {
      "text/html": [
       "<div>\n",
       "<style scoped>\n",
       "    .dataframe tbody tr th:only-of-type {\n",
       "        vertical-align: middle;\n",
       "    }\n",
       "\n",
       "    .dataframe tbody tr th {\n",
       "        vertical-align: top;\n",
       "    }\n",
       "\n",
       "    .dataframe thead th {\n",
       "        text-align: right;\n",
       "    }\n",
       "</style>\n",
       "<table border=\"1\" class=\"dataframe\">\n",
       "  <thead>\n",
       "    <tr style=\"text-align: right;\">\n",
       "      <th></th>\n",
       "      <th>id</th>\n",
       "      <th>day_to_predict</th>\n",
       "      <th>activity</th>\n",
       "      <th>appCat.builtin</th>\n",
       "      <th>appCat.communication</th>\n",
       "      <th>appCat.entertainment</th>\n",
       "      <th>appCat.finance</th>\n",
       "      <th>appCat.game</th>\n",
       "      <th>appCat.office</th>\n",
       "      <th>appCat.other</th>\n",
       "      <th>...</th>\n",
       "      <th>appCat.unknown</th>\n",
       "      <th>appCat.utilities</th>\n",
       "      <th>appCat.weather</th>\n",
       "      <th>call</th>\n",
       "      <th>circumplex.arousal</th>\n",
       "      <th>circumplex.valence</th>\n",
       "      <th>mood</th>\n",
       "      <th>screen</th>\n",
       "      <th>sms</th>\n",
       "      <th>mood_to_predict</th>\n",
       "    </tr>\n",
       "  </thead>\n",
       "  <tbody>\n",
       "    <tr>\n",
       "      <th>0</th>\n",
       "      <td>AS14.01</td>\n",
       "      <td>1900-03-24</td>\n",
       "      <td>0.171224</td>\n",
       "      <td>11.394910</td>\n",
       "      <td>53.411540</td>\n",
       "      <td>43.711556</td>\n",
       "      <td>8.023028</td>\n",
       "      <td>0.0</td>\n",
       "      <td>0.0</td>\n",
       "      <td>18.708823</td>\n",
       "      <td>...</td>\n",
       "      <td>0.0</td>\n",
       "      <td>30.774000</td>\n",
       "      <td>0.0</td>\n",
       "      <td>0.0</td>\n",
       "      <td>0.333333</td>\n",
       "      <td>0.500000</td>\n",
       "      <td>6.466667</td>\n",
       "      <td>89.449056</td>\n",
       "      <td>0.0</td>\n",
       "      <td>6.00</td>\n",
       "    </tr>\n",
       "    <tr>\n",
       "      <th>1</th>\n",
       "      <td>AS14.01</td>\n",
       "      <td>1900-03-25</td>\n",
       "      <td>0.152861</td>\n",
       "      <td>8.299354</td>\n",
       "      <td>50.893593</td>\n",
       "      <td>66.744014</td>\n",
       "      <td>7.853472</td>\n",
       "      <td>0.0</td>\n",
       "      <td>0.0</td>\n",
       "      <td>12.416865</td>\n",
       "      <td>...</td>\n",
       "      <td>0.0</td>\n",
       "      <td>52.886333</td>\n",
       "      <td>0.0</td>\n",
       "      <td>0.0</td>\n",
       "      <td>0.533333</td>\n",
       "      <td>0.400000</td>\n",
       "      <td>6.400000</td>\n",
       "      <td>63.817831</td>\n",
       "      <td>0.0</td>\n",
       "      <td>6.75</td>\n",
       "    </tr>\n",
       "    <tr>\n",
       "      <th>2</th>\n",
       "      <td>AS14.01</td>\n",
       "      <td>1900-03-26</td>\n",
       "      <td>0.106692</td>\n",
       "      <td>9.047925</td>\n",
       "      <td>56.807075</td>\n",
       "      <td>62.557681</td>\n",
       "      <td>9.099528</td>\n",
       "      <td>0.0</td>\n",
       "      <td>0.0</td>\n",
       "      <td>17.677778</td>\n",
       "      <td>...</td>\n",
       "      <td>0.0</td>\n",
       "      <td>47.247100</td>\n",
       "      <td>0.0</td>\n",
       "      <td>0.0</td>\n",
       "      <td>0.500000</td>\n",
       "      <td>0.433333</td>\n",
       "      <td>6.516667</td>\n",
       "      <td>104.312375</td>\n",
       "      <td>0.0</td>\n",
       "      <td>6.60</td>\n",
       "    </tr>\n",
       "    <tr>\n",
       "      <th>3</th>\n",
       "      <td>AS14.01</td>\n",
       "      <td>1900-03-27</td>\n",
       "      <td>0.092881</td>\n",
       "      <td>7.823168</td>\n",
       "      <td>54.680243</td>\n",
       "      <td>95.430935</td>\n",
       "      <td>8.389889</td>\n",
       "      <td>0.0</td>\n",
       "      <td>0.0</td>\n",
       "      <td>19.048611</td>\n",
       "      <td>...</td>\n",
       "      <td>0.0</td>\n",
       "      <td>48.340100</td>\n",
       "      <td>0.0</td>\n",
       "      <td>0.0</td>\n",
       "      <td>0.366667</td>\n",
       "      <td>0.366667</td>\n",
       "      <td>6.450000</td>\n",
       "      <td>113.419714</td>\n",
       "      <td>0.0</td>\n",
       "      <td>7.00</td>\n",
       "    </tr>\n",
       "    <tr>\n",
       "      <th>4</th>\n",
       "      <td>AS14.01</td>\n",
       "      <td>1900-03-28</td>\n",
       "      <td>0.119731</td>\n",
       "      <td>8.823213</td>\n",
       "      <td>53.284080</td>\n",
       "      <td>78.403032</td>\n",
       "      <td>11.186111</td>\n",
       "      <td>0.0</td>\n",
       "      <td>0.0</td>\n",
       "      <td>18.602722</td>\n",
       "      <td>...</td>\n",
       "      <td>0.0</td>\n",
       "      <td>23.976555</td>\n",
       "      <td>0.0</td>\n",
       "      <td>0.0</td>\n",
       "      <td>0.166667</td>\n",
       "      <td>0.633333</td>\n",
       "      <td>6.783333</td>\n",
       "      <td>130.896018</td>\n",
       "      <td>0.0</td>\n",
       "      <td>6.40</td>\n",
       "    </tr>\n",
       "  </tbody>\n",
       "</table>\n",
       "<p>5 rows × 22 columns</p>\n",
       "</div>"
      ],
      "text/plain": [
       "        id day_to_predict  activity  appCat.builtin  appCat.communication  \\\n",
       "0  AS14.01     1900-03-24  0.171224       11.394910             53.411540   \n",
       "1  AS14.01     1900-03-25  0.152861        8.299354             50.893593   \n",
       "2  AS14.01     1900-03-26  0.106692        9.047925             56.807075   \n",
       "3  AS14.01     1900-03-27  0.092881        7.823168             54.680243   \n",
       "4  AS14.01     1900-03-28  0.119731        8.823213             53.284080   \n",
       "\n",
       "   appCat.entertainment  appCat.finance  appCat.game  appCat.office  \\\n",
       "0             43.711556        8.023028          0.0            0.0   \n",
       "1             66.744014        7.853472          0.0            0.0   \n",
       "2             62.557681        9.099528          0.0            0.0   \n",
       "3             95.430935        8.389889          0.0            0.0   \n",
       "4             78.403032       11.186111          0.0            0.0   \n",
       "\n",
       "   appCat.other       ...         appCat.unknown  appCat.utilities  \\\n",
       "0     18.708823       ...                    0.0         30.774000   \n",
       "1     12.416865       ...                    0.0         52.886333   \n",
       "2     17.677778       ...                    0.0         47.247100   \n",
       "3     19.048611       ...                    0.0         48.340100   \n",
       "4     18.602722       ...                    0.0         23.976555   \n",
       "\n",
       "   appCat.weather  call  circumplex.arousal  circumplex.valence      mood  \\\n",
       "0             0.0   0.0            0.333333            0.500000  6.466667   \n",
       "1             0.0   0.0            0.533333            0.400000  6.400000   \n",
       "2             0.0   0.0            0.500000            0.433333  6.516667   \n",
       "3             0.0   0.0            0.366667            0.366667  6.450000   \n",
       "4             0.0   0.0            0.166667            0.633333  6.783333   \n",
       "\n",
       "       screen  sms  mood_to_predict  \n",
       "0   89.449056  0.0             6.00  \n",
       "1   63.817831  0.0             6.75  \n",
       "2  104.312375  0.0             6.60  \n",
       "3  113.419714  0.0             7.00  \n",
       "4  130.896018  0.0             6.40  \n",
       "\n",
       "[5 rows x 22 columns]"
      ]
     },
     "execution_count": 2,
     "metadata": {},
     "output_type": "execute_result"
    }
   ],
   "source": [
    "data=pd.read_csv(\"data/only_mood_preprocessed_dataset.csv\")\n",
    "#data=data.drop(1).reset_index()\n",
    "#data=data.drop(\"index\", axis=1)\n",
    "data.head()"
   ]
  },
  {
   "cell_type": "code",
   "execution_count": 3,
   "metadata": {},
   "outputs": [],
   "source": [
    "def rfr_model(X_train, X_test, y_train, y_test):\n",
    "    # Perform Grid-Search\n",
    "    gsc = GridSearchCV(\n",
    "        estimator=RandomForestRegressor(),\n",
    "        param_grid={\n",
    "            'max_depth': range(3,10),\n",
    "            'n_estimators': (10, 50, 100, 1000),\n",
    "        },\n",
    "        cv=5, scoring='neg_mean_squared_error', verbose=0, n_jobs=-1)\n",
    "    \n",
    "    grid_result = gsc.fit(X_train, y_train)\n",
    "    best_params = grid_result.best_params_\n",
    "    print(best_params)\n",
    "    rfr = RandomForestRegressor(max_depth=best_params[\"max_depth\"], n_estimators=best_params[\"n_estimators\"], random_state=False, verbose=False)                            \n",
    "    #scores = cross_val_score(rfr, X, y, cv=3, scoring='neg_mean_absolute_error')\n",
    "    #predictions = cross_val_predict(rfr, X, y, cv=10)\n",
    "    model=rfr.fit(X_train, y_train)\n",
    "    print(model.feature_importances_)\n",
    "    prediction=model.predict(X_test)\n",
    "    return prediction, model.feature_importances_"
   ]
  },
  {
   "cell_type": "code",
   "execution_count": 4,
   "metadata": {},
   "outputs": [],
   "source": [
    "#id1= data.loc[data['id'] == \"AS14.01\"]\n",
    "# y=id1.iloc[:,-1]\n",
    "# x=id1.iloc[:,2:21]\n",
    "y=data.iloc[:,-1]\n",
    "x=data.iloc[:,2:21]\n"
   ]
  },
  {
   "cell_type": "code",
   "execution_count": 8,
   "metadata": {},
   "outputs": [],
   "source": [
    "#X_train, X_test, y_train, y_test = train_test_split(x, y, test_size=0.30)\n"
   ]
  },
  {
   "cell_type": "code",
   "execution_count": 5,
   "metadata": {},
   "outputs": [],
   "source": [
    "def performance_cal(y_test, prediction):\n",
    "    count=0\n",
    "    for i in zip(y_test,prediction):\n",
    "        if (i[1]-i[0])**2 < 0.25:\n",
    "            count+=1\n",
    "    performance=count/(len(y_test)-1)\n",
    "    return performance"
   ]
  },
  {
   "cell_type": "code",
   "execution_count": 10,
   "metadata": {},
   "outputs": [
    {
     "name": "stdout",
     "output_type": "stream",
     "text": [
      "{'max_depth': 3, 'n_estimators': 100}\n",
      "[1.66261336e-02 1.98935508e-02 9.65794518e-03 6.46838985e-02\n",
      " 0.00000000e+00 7.23496327e-04 0.00000000e+00 3.63344242e-02\n",
      " 1.42918571e-02 2.12216709e-03 6.22591237e-03 5.66887198e-03\n",
      " 0.00000000e+00 3.04700410e-04 2.88149702e-02 9.31290809e-03\n",
      " 7.70635560e-01 1.33835048e-02 1.32009951e-03]\n",
      "percentage of correctly prediction: 0.6479289940828402\n",
      "\n",
      "\n",
      "0.46991776460984513\n"
     ]
    }
   ],
   "source": [
    "\n",
    "prediction, features=rfr_model(X_train, X_test, y_train, y_test)\n",
    "performance=performance_cal(y_test,prediction)\n",
    "print(\"percentage of correctly prediction: \" + str(performance))    \n",
    "print(\"\\n\")\n",
    "print(mean_squared_error(y_test,prediction))"
   ]
  },
  {
   "cell_type": "code",
   "execution_count": null,
   "metadata": {},
   "outputs": [],
   "source": []
  },
  {
   "cell_type": "code",
   "execution_count": 28,
   "metadata": {},
   "outputs": [
    {
     "name": "stderr",
     "output_type": "stream",
     "text": [
      "C:\\Users\\david\\Anaconda3\\lib\\site-packages\\sklearn\\model_selection\\_search.py:841: DeprecationWarning: The default of the `iid` parameter will change from True to False in version 0.22 and will be removed in 0.24. This will change numeric results when test-set sizes are unequal.\n",
      "  DeprecationWarning)\n"
     ]
    },
    {
     "name": "stdout",
     "output_type": "stream",
     "text": [
      "{'max_depth': 3, 'n_estimators': 50}\n",
      "[0.01782392 0.01139974 0.01054454 0.06864116 0.04625777 0.03843871\n",
      " 0.02993967 0.74769339 0.0292611 ]\n",
      "{'max_depth': 3, 'n_estimators': 100}\n",
      "[0.02220581 0.02529033 0.02863579 0.05590778 0.02014294 0.05448473\n",
      " 0.01314298 0.76672143 0.01346822]\n"
     ]
    },
    {
     "name": "stderr",
     "output_type": "stream",
     "text": [
      "C:\\Users\\david\\Anaconda3\\lib\\site-packages\\sklearn\\model_selection\\_search.py:841: DeprecationWarning: The default of the `iid` parameter will change from True to False in version 0.22 and will be removed in 0.24. This will change numeric results when test-set sizes are unequal.\n",
      "  DeprecationWarning)\n"
     ]
    },
    {
     "name": "stdout",
     "output_type": "stream",
     "text": [
      "{'max_depth': 3, 'n_estimators': 1000}\n",
      "[0.01967972 0.02742227 0.01084144 0.05183049 0.03359941 0.0407972\n",
      " 0.02134643 0.77523473 0.01924833]\n"
     ]
    },
    {
     "name": "stderr",
     "output_type": "stream",
     "text": [
      "C:\\Users\\david\\Anaconda3\\lib\\site-packages\\sklearn\\model_selection\\_search.py:841: DeprecationWarning: The default of the `iid` parameter will change from True to False in version 0.22 and will be removed in 0.24. This will change numeric results when test-set sizes are unequal.\n",
      "  DeprecationWarning)\n"
     ]
    },
    {
     "name": "stdout",
     "output_type": "stream",
     "text": [
      "{'max_depth': 4, 'n_estimators': 50}\n",
      "[0.03741112 0.04579449 0.03348699 0.06982207 0.05366821 0.05380982\n",
      " 0.03670328 0.62606896 0.04323507]\n"
     ]
    },
    {
     "name": "stderr",
     "output_type": "stream",
     "text": [
      "C:\\Users\\david\\Anaconda3\\lib\\site-packages\\sklearn\\model_selection\\_search.py:841: DeprecationWarning: The default of the `iid` parameter will change from True to False in version 0.22 and will be removed in 0.24. This will change numeric results when test-set sizes are unequal.\n",
      "  DeprecationWarning)\n"
     ]
    },
    {
     "name": "stdout",
     "output_type": "stream",
     "text": [
      "{'max_depth': 3, 'n_estimators': 1000}\n",
      "[0.01627356 0.02786543 0.0164822  0.08028318 0.02839773 0.03381522\n",
      " 0.0104409  0.76921297 0.01722881]\n",
      "average mse: \n",
      "\n",
      "0.4177564077154717\n",
      "average performance: \n",
      "\n",
      "0.6203333333333333\n"
     ]
    }
   ],
   "source": [
    "#TRY WITH CROSS val\n",
    "#x=x.drop(x.columns[[3, 11,  5, 18, 13,  9, 10,  4,  6, 12]],axis=1)\n",
    "list_mse=[]\n",
    "list_perf=[]\n",
    "seed=1\n",
    "kf = KFold(n_splits=5,shuffle=True,random_state=seed)\n",
    "for i, (index_train, index_test) in enumerate(kf.split(x)):\n",
    "        #splitting the dataset and the labels following the indexes defined in Kfold\n",
    "        X_train, X_test = x.iloc[index_train], x.iloc[index_test]\n",
    "        y_train, y_test = y.iloc[index_train], y.iloc[index_test]\n",
    "        prediction, features=rfr_model(X_train, X_test, y_train, y_test)\n",
    "        performance=performance_cal(y_test,prediction)\n",
    "        list_mse.append(mean_squared_error(y_test,prediction))\n",
    "        list_perf.append(performance)\n",
    "print(\"average mse: \\n\")\n",
    "print(np.mean(list_mse))\n",
    "print(\"average performance: \\n\")\n",
    "print(np.mean(list_perf))"
   ]
  },
  {
   "cell_type": "code",
   "execution_count": 92,
   "metadata": {},
   "outputs": [
    {
     "data": {
      "image/png": "[encoded data removed]",
      "text/plain": [
       "<Figure size 432x288 with 1 Axes>"
      ]
     },
     "metadata": {
      "needs_background": "light"
     },
     "output_type": "display_data"
    }
   ],
   "source": [
    "#feature importance\n",
    "col_name=X_train.columns\n",
    "\n",
    "indices = np.argsort(features)[::-1]\n",
    "plt.figure()\n",
    "plt.title(\"Feature importances\")\n",
    "plt.bar(range(X_train.shape[1]), features[indices],\n",
    "       color=\"r\", align=\"center\")\n",
    "plt.xticks(range(X_train.shape[1]), indices)\n",
    "plt.xlim([-1, X_train.shape[1]])\n",
    "plt.show()"
   ]
  },
  {
   "cell_type": "code",
   "execution_count": 87,
   "metadata": {},
   "outputs": [
    {
     "name": "stdout",
     "output_type": "stream",
     "text": [
      "[16  1  7 15  8 14 17  2  0  3 11  5 18 13  9 10  4  6 12]\n",
      "['mood', 'appCat.builtin', 'appCat.other', 'circumplex.valence', 'appCat.social', 'circumplex.arousal', 'screen', 'appCat.communication', 'activity', 'appCat.entertainment', 'appCat.utilities', 'appCat.game', 'sms', 'call', 'appCat.travel', 'appCat.unknown', 'appCat.finance', 'appCat.office', 'appCat.weather']\n"
     ]
    }
   ],
   "source": [
    "print(indices)\n",
    "features_indexs=[]\n",
    "combinatio=dict(zip(range(0,len(col_name)),col_name))\n",
    "indices=indices.tolist()\n",
    "for i in range(0,len(indices)):\n",
    "    a=indices.pop()\n",
    "    feature=combinatio[a]\n",
    "    #print(feature)\n",
    "    features_indexs.append(feature)\n",
    "features_indexs=features_indexs[::-1]\n",
    "print(features_indexs)"
   ]
  },
  {
   "cell_type": "code",
   "execution_count": 100,
   "metadata": {},
   "outputs": [
    {
     "data": {
      "image/png": "[encoded data removed]",
      "text/plain": [
       "<Figure size 720x360 with 1 Axes>"
      ]
     },
     "metadata": {
      "needs_background": "light"
     },
     "output_type": "display_data"
    }
   ],
   "source": [
    "indices = np.argsort(features)[::-1]\n",
    "#print(X_train.shape[1])\n",
    "#print(len(features_indexs))\n",
    "plt.figure(figsize=(10,5))\n",
    "plt.title(\"Feature importances\")\n",
    "plt.bar(range(X_train.shape[1]), features[indices], color=\"r\", align=\"center\")\n",
    "plt.xticks(range(X_train.shape[1]), features_indexs,rotation='vertical')\n",
    "plt.xlim([-1, X_train.shape[1]])\n",
    "plt.show()"
   ]
  },
  {
   "cell_type": "markdown",
   "metadata": {},
   "source": [
    "# again random forest with now feature selection"
   ]
  },
  {
   "cell_type": "code",
   "execution_count": 102,
   "metadata": {},
   "outputs": [],
   "source": [
    "#3 11  5 18 13  9 10  4  6 12 are dropped\n",
    "y=data.iloc[:,-1]\n",
    "x=data.iloc[:,2:21]\n",
    "x=x.drop(x.columns[[3, 11,  5, 18, 13,  9, 10,  4,  6, 12]],axis=1)\n"
   ]
  },
  {
   "cell_type": "code",
   "execution_count": 106,
   "metadata": {},
   "outputs": [
    {
     "name": "stderr",
     "output_type": "stream",
     "text": [
      "C:\\Users\\david\\Anaconda3\\lib\\site-packages\\sklearn\\model_selection\\_search.py:841: DeprecationWarning: The default of the `iid` parameter will change from True to False in version 0.22 and will be removed in 0.24. This will change numeric results when test-set sizes are unequal.\n",
      "  DeprecationWarning)\n"
     ]
    },
    {
     "name": "stdout",
     "output_type": "stream",
     "text": [
      "{'max_depth': 13, 'n_estimators': 100}\n",
      "[0.08992087 0.08425621 0.08538454 0.09546822 0.07328847 0.08706202\n",
      " 0.06775085 0.3323887  0.08448012]\n",
      "percentage of correctly prediction: 0.6331360946745562\n",
      "\n",
      "\n",
      "0.40537145945638764\n"
     ]
    }
   ],
   "source": [
    "X_train, X_test, y_train, y_test = train_test_split(x, y, test_size=0.30)\n",
    "prediction, features=rfr_model(X_train, X_test, y_train, y_test)\n",
    "count=0\n",
    "for i in zip(y_test,prediction):\n",
    "    if (i[1]-i[0])**2 < 0.25:\n",
    "        count+=1\n",
    "performance=count/(len(y_test)-1)\n",
    "print(\"percentage of correctly prediction: \" + str(performance))    \n",
    "print(\"\\n\")\n",
    "print(mean_squared_error(y_test,prediction))"
   ]
  },
  {
   "cell_type": "markdown",
   "metadata": {},
   "source": [
    "### Benchmark"
   ]
  },
  {
   "cell_type": "code",
   "execution_count": 17,
   "metadata": {},
   "outputs": [
    {
     "name": "stdout",
     "output_type": "stream",
     "text": [
      "percentage of correctly prediction: 0.5669642857142857\n",
      "\n",
      "\n",
      "0.5012936899862825\n"
     ]
    }
   ],
   "source": [
    "#prediction is the average mood of the previous 3 days\n",
    "prediction=X_test.iloc[:,-3]\n",
    "count=0\n",
    "for i in zip(y_test,prediction):\n",
    "    if (i[1]-i[0])**2 < 0.25:\n",
    "        count+=1\n",
    "performance=count/(len(y_test)-1)\n",
    "print(\"percentage of correctly prediction: \" + str(performance))    \n",
    "print(\"\\n\")\n",
    "print(mean_squared_error(y_test,prediction))"
   ]
  },
  {
   "cell_type": "markdown",
   "metadata": {},
   "source": [
    "## LASSO\n"
   ]
  },
  {
   "cell_type": "code",
   "execution_count": 7,
   "metadata": {},
   "outputs": [],
   "source": [
    "def lasso_model(X_train, X_test, y_train, y_test):\n",
    "    # Perform Grid-Search\n",
    "    gsc = GridSearchCV(\n",
    "        estimator=linear_model.Lasso(),\n",
    "        param_grid={\n",
    "            'alpha': (0.0001, 0.001, 0.5, 10),   \n",
    "        },\n",
    "        cv=5, scoring='neg_mean_squared_error', verbose=0, n_jobs=-1)\n",
    "    \n",
    "    grid_result = gsc.fit(X_train, y_train)\n",
    "    best_params = grid_result.best_params_\n",
    "    print(best_params)\n",
    "    lasso = linear_model.Lasso(alpha=best_params[\"alpha\"])                            \n",
    "    #scores = cross_val_score(rfr, X, y, cv=3, scoring='neg_mean_absolute_error')\n",
    "    #predictions = cross_val_predict(rfr, X, y, cv=10)\n",
    "    model=lasso.fit(X_train, y_train)\n",
    "    print(lasso.coef_)\n",
    "    prediction=model.predict(X_test)\n",
    "    return prediction, lasso.coef_"
   ]
  },
  {
   "cell_type": "code",
   "execution_count": 21,
   "metadata": {},
   "outputs": [
    {
     "name": "stdout",
     "output_type": "stream",
     "text": [
      "{'alpha': 0.001}\n",
      "[ 2.97213579e-01  5.83603795e-04  9.71683197e-04  1.38321625e-04\n",
      "  1.40984055e-03  8.12277205e-04  6.11726846e-04  9.38214176e-04\n",
      " -6.48680948e-04  3.81741353e-04 -1.04876577e-04  2.58927583e-03\n",
      "  2.71302996e-03  3.82370607e-02  3.50847077e-02 -1.93141698e-01\n",
      "  6.59070024e-01 -3.22502182e-04 -1.10657720e-01]\n",
      "percentage of correctly prediction: 0.6420118343195266\n",
      "\n",
      "\n",
      "mean squared error: \n",
      "\n",
      "0.42634352981041373\n"
     ]
    }
   ],
   "source": [
    "x=data.iloc[:,2:21]\n",
    "X_train, X_test, y_train, y_test = train_test_split(x, y, test_size=0.30)\n",
    "prediction, features=lasso_model(X_train, X_test, y_train, y_test)\n",
    "\n",
    "count=0\n",
    "for i in zip(y_test,prediction):\n",
    "    if (i[1]-i[0])**2 < 0.25:\n",
    "        count+=1\n",
    "performance=count/(len(y_test)-1)\n",
    "print(\"percentage of correctly prediction: \" + str(performance))    \n",
    "print(\"\\n\")\n",
    "print(\"mean squared error: \\n\")\n",
    "print(mean_squared_error(y_test,prediction))"
   ]
  },
  {
   "cell_type": "code",
   "execution_count": 22,
   "metadata": {},
   "outputs": [
    {
     "data": {
      "image/png": "[encoded data removed]",
      "text/plain": [
       "<Figure size 432x288 with 1 Axes>"
      ]
     },
     "metadata": {
      "needs_background": "light"
     },
     "output_type": "display_data"
    }
   ],
   "source": [
    "col_name=X_train.columns\n",
    "\n",
    "indices = np.argsort(features)[::-1]\n",
    "plt.figure()\n",
    "plt.title(\"Feature importances\")\n",
    "plt.bar(range(X_train.shape[1]), features[indices],\n",
    "       color=\"r\", align=\"center\")\n",
    "plt.xticks(range(X_train.shape[1]), indices)\n",
    "plt.xlim([-1, X_train.shape[1]])\n",
    "plt.show()\n",
    "\n"
   ]
  },
  {
   "cell_type": "markdown",
   "metadata": {},
   "source": [
    "## Again Lasso with now CV "
   ]
  },
  {
   "cell_type": "code",
   "execution_count": 10,
   "metadata": {},
   "outputs": [
    {
     "name": "stdout",
     "output_type": "stream",
     "text": [
      "{'alpha': 0.001}\n",
      "[ 3.07814844e-02  7.31306884e-04 -3.64814762e-04 -1.56174416e-04\n",
      "  8.72438357e-04  8.28305513e-04  9.72983863e-05  1.78646575e-03\n",
      " -3.69169438e-04  3.80976557e-05  4.14376773e-04  3.63839102e-03\n",
      " -1.85728000e-03  6.18400679e-02 -1.49510749e-02 -1.70381009e-01\n",
      "  6.64615315e-01  7.48738321e-05 -9.99915104e-02]\n",
      "{'alpha': 0.001}\n",
      "[ 5.06984742e-02  1.46261902e-03  8.08365683e-04  3.59229053e-05\n",
      "  1.93584281e-03  8.11316198e-04  7.84413354e-04  1.82393349e-03\n",
      " -6.21562160e-04 -3.90023706e-04 -5.99198947e-05  2.67997847e-03\n",
      "  1.79920307e-03  9.83926428e-02 -2.46817886e-02 -2.41176838e-01\n",
      "  6.64433682e-01 -4.68710396e-04 -3.03552924e-02]\n"
     ]
    },
    {
     "name": "stderr",
     "output_type": "stream",
     "text": [
      "C:\\Users\\david\\Anaconda3\\lib\\site-packages\\sklearn\\model_selection\\_search.py:841: DeprecationWarning: The default of the `iid` parameter will change from True to False in version 0.22 and will be removed in 0.24. This will change numeric results when test-set sizes are unequal.\n",
      "  DeprecationWarning)\n",
      "C:\\Users\\david\\Anaconda3\\lib\\site-packages\\sklearn\\model_selection\\_search.py:841: DeprecationWarning: The default of the `iid` parameter will change from True to False in version 0.22 and will be removed in 0.24. This will change numeric results when test-set sizes are unequal.\n",
      "  DeprecationWarning)\n"
     ]
    },
    {
     "name": "stdout",
     "output_type": "stream",
     "text": [
      "{'alpha': 0.001}\n",
      "[ 1.39536178e-01  5.44278150e-04  3.17876669e-04  3.59747392e-05\n",
      "  4.73456008e-03  6.68374170e-04  3.01249156e-03  2.36134759e-03\n",
      " -5.41759153e-04 -4.37084113e-04 -1.57524221e-03  1.87216595e-03\n",
      "  1.18666904e-03  7.18828995e-02 -2.47588709e-03 -2.45468319e-01\n",
      "  6.83552277e-01 -3.92511333e-04 -1.61250976e-01]\n",
      "{'alpha': 0.001}\n",
      "[ 1.94702087e-01  4.18196724e-04  7.89056314e-04  2.94520792e-04\n",
      "  3.88927732e-03  5.85853498e-04  5.54086559e-04  2.25459342e-03\n",
      " -6.04188144e-04 -1.02399602e-03 -6.73868703e-05  1.66145431e-03\n",
      " -5.05950663e-03  7.23547109e-03 -6.55498556e-03 -1.96423547e-01\n",
      "  6.58722736e-01 -3.45617192e-04 -5.12959350e-02]\n",
      "{'alpha': 0.001}\n",
      "[ 4.00458625e-01  3.06287236e-04  5.75025337e-04 -1.53167516e-04\n",
      " -1.67884455e-03  7.71276164e-04  3.84040339e-04  2.13498664e-03\n",
      " -4.53080704e-04  5.41111907e-04 -3.92956686e-04  2.15668065e-03\n",
      "  7.77303624e-03  1.49708301e-02  0.00000000e+00 -1.37463990e-01\n",
      "  6.25920683e-01 -1.63482634e-04 -7.38272896e-02]\n",
      "average mse: \n",
      "\n",
      "0.4223798587271184\n",
      "average performance: \n",
      "\n",
      "0.6247182539682539\n"
     ]
    },
    {
     "name": "stderr",
     "output_type": "stream",
     "text": [
      "C:\\Users\\david\\Anaconda3\\lib\\site-packages\\sklearn\\model_selection\\_search.py:841: DeprecationWarning: The default of the `iid` parameter will change from True to False in version 0.22 and will be removed in 0.24. This will change numeric results when test-set sizes are unequal.\n",
      "  DeprecationWarning)\n"
     ]
    }
   ],
   "source": [
    "list_mse=[]\n",
    "list_perf=[]\n",
    "seed=111\n",
    "kf = KFold(n_splits=5,shuffle=True,random_state=seed)\n",
    "for i, (index_train, index_test) in enumerate(kf.split(x)):\n",
    "        #splitting the dataset and the labels following the indexes defined in Kfold\n",
    "        X_train, X_test = x.iloc[index_train], x.iloc[index_test]\n",
    "        y_train, y_test = y.iloc[index_train], y.iloc[index_test]\n",
    "        prediction, features=lasso_model(X_train, X_test, y_train, y_test)\n",
    "        performance=performance_cal(y_test,prediction)\n",
    "        list_mse.append(mean_squared_error(y_test,prediction))\n",
    "        list_perf.append(performance)\n",
    "print(\"average mse: \\n\")\n",
    "print(np.mean(list_mse))\n",
    "print(\"average performance: \\n\")\n",
    "print(np.mean(list_perf))"
   ]
  },
  {
   "cell_type": "code",
   "execution_count": 23,
   "metadata": {},
   "outputs": [
    {
     "name": "stdout",
     "output_type": "stream",
     "text": [
      "[16  0 13 14 12 11  4  2  7  5  6  1  9  3 10 17  8 18 15]\n",
      "['mood', 'activity', 'call', 'circumplex.arousal', 'appCat.weather', 'appCat.utilities', 'appCat.finance', 'appCat.communication', 'appCat.other', 'appCat.game', 'appCat.office', 'appCat.builtin', 'appCat.travel', 'appCat.entertainment', 'appCat.unknown', 'screen', 'appCat.social', 'sms', 'circumplex.valence']\n"
     ]
    }
   ],
   "source": [
    "print(indices)\n",
    "features_indexs=[]\n",
    "combinatio=dict(zip(range(0,len(col_name)),col_name))\n",
    "indices=indices.tolist()\n",
    "for i in range(0,len(indices)):\n",
    "    a=indices.pop()\n",
    "    feature=combinatio[a]\n",
    "    #print(feature)\n",
    "    features_indexs.append(feature)\n",
    "features_indexs=features_indexs[::-1]\n",
    "print(features_indexs)"
   ]
  },
  {
   "cell_type": "code",
   "execution_count": 24,
   "metadata": {},
   "outputs": [
    {
     "data": {
      "image/png": "[encoded data removed]",
      "text/plain": [
       "<Figure size 720x360 with 1 Axes>"
      ]
     },
     "metadata": {
      "needs_background": "light"
     },
     "output_type": "display_data"
    }
   ],
   "source": [
    "indices = np.argsort(features)[::-1]\n",
    "#print(X_train.shape[1])\n",
    "#print(len(features_indexs))\n",
    "plt.figure(figsize=(10,5))\n",
    "plt.title(\"Feature importances\")\n",
    "plt.bar(range(X_train.shape[1]), features[indices], color=\"r\", align=\"center\")\n",
    "plt.xticks(range(X_train.shape[1]), features_indexs,rotation='vertical')\n",
    "plt.xlim([-1, X_train.shape[1]])\n",
    "plt.show()"
   ]
  },
  {
   "cell_type": "code",
   "execution_count": 34,
   "metadata": {},
   "outputs": [
    {
     "name": "stdout",
     "output_type": "stream",
     "text": [
      "{'alpha': 0.001}\n",
      "[ 0.14161755  0.12650383  0.         -0.10179204 -0.06572469  0.30035283\n",
      "  0.          0.54781762 -0.28794778 -0.12154511  0.          0.07618474\n",
      " -0.          0.03807694 -0.11347218 -0.39044011  2.75704278 -0.0080875\n",
      " -0.07491553]\n",
      "percentage of correctly prediction: 0.6242603550295858\n",
      "\n",
      "\n",
      "mean squared error: \n",
      "\n",
      "0.40235577157080477\n"
     ]
    }
   ],
   "source": [
    "x=data.iloc[:,2:21]\n",
    "#x=x.drop(x.columns[[11,4,2,7,5,6,1,9,3,10,17,8]],axis=1)\n",
    "scaler=MinMaxScaler(feature_range=(0,1))\n",
    "x=scaler.fit_transform(x)\n",
    "\n",
    "X_train, X_test, y_train, y_test = train_test_split(x, y, test_size=0.30)\n",
    "prediction, features=lasso_model(X_train, X_test, y_train, y_test)\n",
    "\n",
    "count=0\n",
    "for i in zip(y_test,prediction):\n",
    "    if (i[1]-i[0])**2 < 0.25:\n",
    "        count+=1\n",
    "performance=count/(len(y_test)-1)\n",
    "print(\"percentage of correctly prediction: \" + str(performance))    \n",
    "print(\"\\n\")\n",
    "print(\"mean squared error: \\n\")\n",
    "print(mean_squared_error(y_test,prediction))"
   ]
  },
  {
   "cell_type": "code",
   "execution_count": 35,
   "metadata": {},
   "outputs": [
    {
     "data": {
      "image/png": "[encoded data removed]",
      "text/plain": [
       "<Figure size 720x360 with 1 Axes>"
      ]
     },
     "metadata": {
      "needs_background": "light"
     },
     "output_type": "display_data"
    }
   ],
   "source": [
    "indices = np.argsort(features)[::-1]\n",
    "#print(X_train.shape[1])\n",
    "#print(len(features_indexs))\n",
    "plt.figure(figsize=(10,5))\n",
    "plt.title(\"Feature importances\")\n",
    "plt.bar(range(X_train.shape[1]), features[indices], color=\"r\", align=\"center\")\n",
    "plt.xticks(range(X_train.shape[1]), features_indexs,rotation='vertical')\n",
    "plt.xlim([-1, X_train.shape[1]])\n",
    "plt.show()"
   ]
  }
 ],
 "metadata": {
  "kernelspec": {
   "display_name": "Python 3",
   "language": "python",
   "name": "python3"
  },
  "language_info": {
   "codemirror_mode": {
    "name": "ipython",
    "version": 3
   },
   "file_extension": ".py",
   "mimetype": "text/x-python",
   "name": "python",
   "nbconvert_exporter": "python",
   "pygments_lexer": "ipython3",
   "version": "3.7.0"
  }
 },
 "nbformat": 4,
 "nbformat_minor": 2
}
