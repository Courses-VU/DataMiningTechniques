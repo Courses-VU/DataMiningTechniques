{
 "cells": [
  {
   "cell_type": "code",
   "execution_count": 4,
   "metadata": {},
   "outputs": [],
   "source": [
    "import numpy as np\n",
    "import pandas as pd\n",
    "from sklearn.ensemble import RandomForestRegressor\n",
    "from sklearn.model_selection import cross_val_score, GridSearchCV, train_test_split\n",
    "from sklearn.metrics import mean_squared_error"
   ]
  },
  {
   "cell_type": "code",
   "execution_count": 2,
   "metadata": {},
   "outputs": [
    {
     "data": {
      "text/html": [
       "<div>\n",
       "<style scoped>\n",
       "    .dataframe tbody tr th:only-of-type {\n",
       "        vertical-align: middle;\n",
       "    }\n",
       "\n",
       "    .dataframe tbody tr th {\n",
       "        vertical-align: top;\n",
       "    }\n",
       "\n",
       "    .dataframe thead th {\n",
       "        text-align: right;\n",
       "    }\n",
       "</style>\n",
       "<table border=\"1\" class=\"dataframe\">\n",
       "  <thead>\n",
       "    <tr style=\"text-align: right;\">\n",
       "      <th></th>\n",
       "      <th>id</th>\n",
       "      <th>day_to_predict</th>\n",
       "      <th>activity</th>\n",
       "      <th>appCat.builtin</th>\n",
       "      <th>appCat.communication</th>\n",
       "      <th>appCat.entertainment</th>\n",
       "      <th>appCat.finance</th>\n",
       "      <th>appCat.game</th>\n",
       "      <th>appCat.office</th>\n",
       "      <th>appCat.other</th>\n",
       "      <th>...</th>\n",
       "      <th>appCat.unknown</th>\n",
       "      <th>appCat.utilities</th>\n",
       "      <th>appCat.weather</th>\n",
       "      <th>call</th>\n",
       "      <th>circumplex.arousal</th>\n",
       "      <th>circumplex.valence</th>\n",
       "      <th>mood</th>\n",
       "      <th>screen</th>\n",
       "      <th>sms</th>\n",
       "      <th>mood_to_predict</th>\n",
       "    </tr>\n",
       "  </thead>\n",
       "  <tbody>\n",
       "    <tr>\n",
       "      <th>0</th>\n",
       "      <td>AS14.01</td>\n",
       "      <td>1900-03-24</td>\n",
       "      <td>0.171224</td>\n",
       "      <td>11.394910</td>\n",
       "      <td>53.411540</td>\n",
       "      <td>43.711556</td>\n",
       "      <td>8.023028</td>\n",
       "      <td>0.0</td>\n",
       "      <td>0.0</td>\n",
       "      <td>18.708823</td>\n",
       "      <td>...</td>\n",
       "      <td>0.0</td>\n",
       "      <td>30.774000</td>\n",
       "      <td>0.0</td>\n",
       "      <td>0.0</td>\n",
       "      <td>0.333333</td>\n",
       "      <td>0.500000</td>\n",
       "      <td>6.466667</td>\n",
       "      <td>89.449056</td>\n",
       "      <td>0.0</td>\n",
       "      <td>6.00</td>\n",
       "    </tr>\n",
       "    <tr>\n",
       "      <th>1</th>\n",
       "      <td>AS14.01</td>\n",
       "      <td>1900-03-25</td>\n",
       "      <td>0.152861</td>\n",
       "      <td>8.299354</td>\n",
       "      <td>50.893593</td>\n",
       "      <td>66.744014</td>\n",
       "      <td>7.853472</td>\n",
       "      <td>0.0</td>\n",
       "      <td>0.0</td>\n",
       "      <td>12.416865</td>\n",
       "      <td>...</td>\n",
       "      <td>0.0</td>\n",
       "      <td>52.886333</td>\n",
       "      <td>0.0</td>\n",
       "      <td>0.0</td>\n",
       "      <td>0.533333</td>\n",
       "      <td>0.400000</td>\n",
       "      <td>6.400000</td>\n",
       "      <td>63.817831</td>\n",
       "      <td>0.0</td>\n",
       "      <td>6.75</td>\n",
       "    </tr>\n",
       "    <tr>\n",
       "      <th>2</th>\n",
       "      <td>AS14.01</td>\n",
       "      <td>1900-03-26</td>\n",
       "      <td>0.106692</td>\n",
       "      <td>9.047925</td>\n",
       "      <td>56.807075</td>\n",
       "      <td>62.557681</td>\n",
       "      <td>9.099528</td>\n",
       "      <td>0.0</td>\n",
       "      <td>0.0</td>\n",
       "      <td>17.677778</td>\n",
       "      <td>...</td>\n",
       "      <td>0.0</td>\n",
       "      <td>47.247100</td>\n",
       "      <td>0.0</td>\n",
       "      <td>0.0</td>\n",
       "      <td>0.500000</td>\n",
       "      <td>0.433333</td>\n",
       "      <td>6.516667</td>\n",
       "      <td>104.312375</td>\n",
       "      <td>0.0</td>\n",
       "      <td>6.60</td>\n",
       "    </tr>\n",
       "    <tr>\n",
       "      <th>3</th>\n",
       "      <td>AS14.01</td>\n",
       "      <td>1900-03-27</td>\n",
       "      <td>0.092881</td>\n",
       "      <td>7.823168</td>\n",
       "      <td>54.680243</td>\n",
       "      <td>95.430935</td>\n",
       "      <td>8.389889</td>\n",
       "      <td>0.0</td>\n",
       "      <td>0.0</td>\n",
       "      <td>19.048611</td>\n",
       "      <td>...</td>\n",
       "      <td>0.0</td>\n",
       "      <td>48.340100</td>\n",
       "      <td>0.0</td>\n",
       "      <td>0.0</td>\n",
       "      <td>0.366667</td>\n",
       "      <td>0.366667</td>\n",
       "      <td>6.450000</td>\n",
       "      <td>113.419714</td>\n",
       "      <td>0.0</td>\n",
       "      <td>7.00</td>\n",
       "    </tr>\n",
       "    <tr>\n",
       "      <th>4</th>\n",
       "      <td>AS14.01</td>\n",
       "      <td>1900-03-28</td>\n",
       "      <td>0.119731</td>\n",
       "      <td>8.823213</td>\n",
       "      <td>53.284080</td>\n",
       "      <td>78.403032</td>\n",
       "      <td>11.186111</td>\n",
       "      <td>0.0</td>\n",
       "      <td>0.0</td>\n",
       "      <td>18.602722</td>\n",
       "      <td>...</td>\n",
       "      <td>0.0</td>\n",
       "      <td>23.976555</td>\n",
       "      <td>0.0</td>\n",
       "      <td>0.0</td>\n",
       "      <td>0.166667</td>\n",
       "      <td>0.633333</td>\n",
       "      <td>6.783333</td>\n",
       "      <td>130.896018</td>\n",
       "      <td>0.0</td>\n",
       "      <td>6.40</td>\n",
       "    </tr>\n",
       "  </tbody>\n",
       "</table>\n",
       "<p>5 rows × 22 columns</p>\n",
       "</div>"
      ],
      "text/plain": [
       "        id day_to_predict  activity  appCat.builtin  appCat.communication  \\\n",
       "0  AS14.01     1900-03-24  0.171224       11.394910             53.411540   \n",
       "1  AS14.01     1900-03-25  0.152861        8.299354             50.893593   \n",
       "2  AS14.01     1900-03-26  0.106692        9.047925             56.807075   \n",
       "3  AS14.01     1900-03-27  0.092881        7.823168             54.680243   \n",
       "4  AS14.01     1900-03-28  0.119731        8.823213             53.284080   \n",
       "\n",
       "   appCat.entertainment  appCat.finance  appCat.game  appCat.office  \\\n",
       "0             43.711556        8.023028          0.0            0.0   \n",
       "1             66.744014        7.853472          0.0            0.0   \n",
       "2             62.557681        9.099528          0.0            0.0   \n",
       "3             95.430935        8.389889          0.0            0.0   \n",
       "4             78.403032       11.186111          0.0            0.0   \n",
       "\n",
       "   appCat.other       ...         appCat.unknown  appCat.utilities  \\\n",
       "0     18.708823       ...                    0.0         30.774000   \n",
       "1     12.416865       ...                    0.0         52.886333   \n",
       "2     17.677778       ...                    0.0         47.247100   \n",
       "3     19.048611       ...                    0.0         48.340100   \n",
       "4     18.602722       ...                    0.0         23.976555   \n",
       "\n",
       "   appCat.weather  call  circumplex.arousal  circumplex.valence      mood  \\\n",
       "0             0.0   0.0            0.333333            0.500000  6.466667   \n",
       "1             0.0   0.0            0.533333            0.400000  6.400000   \n",
       "2             0.0   0.0            0.500000            0.433333  6.516667   \n",
       "3             0.0   0.0            0.366667            0.366667  6.450000   \n",
       "4             0.0   0.0            0.166667            0.633333  6.783333   \n",
       "\n",
       "       screen  sms  mood_to_predict  \n",
       "0   89.449056  0.0             6.00  \n",
       "1   63.817831  0.0             6.75  \n",
       "2  104.312375  0.0             6.60  \n",
       "3  113.419714  0.0             7.00  \n",
       "4  130.896018  0.0             6.40  \n",
       "\n",
       "[5 rows x 22 columns]"
      ]
     },
     "execution_count": 2,
     "metadata": {},
     "output_type": "execute_result"
    }
   ],
   "source": [
    "data=pd.read_csv(\"data/only_mood_preprocessed_dataset.csv\")\n",
    "#data=data.drop(1).reset_index()\n",
    "#data=data.drop(\"index\", axis=1)\n",
    "data.head()"
   ]
  },
  {
   "cell_type": "code",
   "execution_count": 25,
   "metadata": {},
   "outputs": [],
   "source": [
    "def rfr_model(X_train, X_test, y_train, y_test):\n",
    "    # Perform Grid-Search\n",
    "    gsc = GridSearchCV(\n",
    "        estimator=RandomForestRegressor(),\n",
    "        param_grid={\n",
    "            'max_depth': range(3,15),\n",
    "            'n_estimators': (10, 50, 100, 1000),\n",
    "        },\n",
    "        cv=5, scoring='neg_mean_squared_error', verbose=0, n_jobs=-1)\n",
    "    \n",
    "    grid_result = gsc.fit(X_train, y_train)\n",
    "    best_params = grid_result.best_params_\n",
    "    print(best_params)\n",
    "    rfr = RandomForestRegressor(max_depth=best_params[\"max_depth\"], n_estimators=best_params[\"n_estimators\"], random_state=False, verbose=False)                            \n",
    "    #scores = cross_val_score(rfr, X, y, cv=3, scoring='neg_mean_absolute_error')\n",
    "    #predictions = cross_val_predict(rfr, X, y, cv=10)\n",
    "    model=rfr.fit(X_train, y_train)\n",
    "    print(model.feature_importances_)\n",
    "    prediction=model.predict(X_test)\n",
    "    return prediction, model.feature_importances_"
   ]
  },
  {
   "cell_type": "code",
   "execution_count": 6,
   "metadata": {},
   "outputs": [],
   "source": [
    "#id1= data.loc[data['id'] == \"AS14.01\"]\n",
    "# y=id1.iloc[:,-1]\n",
    "# x=id1.iloc[:,2:21]\n",
    "y=data.iloc[:,-1]\n",
    "x=data.iloc[:,2:21]"
   ]
  },
  {
   "cell_type": "code",
   "execution_count": 31,
   "metadata": {},
   "outputs": [
    {
     "name": "stdout",
     "output_type": "stream",
     "text": [
      "{'max_depth': 5, 'n_estimators': 1000}\n",
      "[3.09939697e-02 6.25220276e-02 3.16446201e-02 2.97912274e-02\n",
      " 2.12735322e-03 5.83884781e-03 2.06067772e-03 5.42858188e-02\n",
      " 4.97922586e-02 2.73807269e-03 2.54111804e-03 6.00370317e-03\n",
      " 2.17007015e-04 3.50700257e-03 4.61171864e-02 5.07722876e-02\n",
      " 5.70772044e-01 4.24713933e-02 5.80338427e-03]\n",
      "percentage of correctly prediction: 0.6301775147928994\n",
      "\n",
      "\n",
      "0.4491799433369106\n"
     ]
    }
   ],
   "source": [
    "\n",
    "X_train, X_test, y_train, y_test = train_test_split(x, y, test_size=0.30)\n",
    "prediction, features=rfr_model(X_train, X_test, y_train, y_test)\n",
    "count=0\n",
    "for i in zip(y_test,prediction):\n",
    "    if (i[1]-i[0])**2 < 0.25:\n",
    "        count+=1\n",
    "performance=count/(len(y_test)-1)\n",
    "print(\"percentage of correctly prediction: \" + str(performance))    \n",
    "print(\"\\n\")\n",
    "print(mean_squared_error(y_test,prediction))"
   ]
  },
  {
   "cell_type": "code",
   "execution_count": 92,
   "metadata": {},
   "outputs": [
    {
     "data": {
      "image/png": "[encoded data removed]",
      "text/plain": [
       "<Figure size 432x288 with 1 Axes>"
      ]
     },
     "metadata": {
      "needs_background": "light"
     },
     "output_type": "display_data"
    }
   ],
   "source": [
    "#feature importance\n",
    "import matplotlib.pyplot as plt\n",
    "col_name=X_train.columns\n",
    "\n",
    "indices = np.argsort(features)[::-1]\n",
    "plt.figure()\n",
    "plt.title(\"Feature importances\")\n",
    "plt.bar(range(X_train.shape[1]), features[indices],\n",
    "       color=\"r\", align=\"center\")\n",
    "plt.xticks(range(X_train.shape[1]), indices)\n",
    "plt.xlim([-1, X_train.shape[1]])\n",
    "plt.show()"
   ]
  },
  {
   "cell_type": "code",
   "execution_count": 87,
   "metadata": {},
   "outputs": [
    {
     "name": "stdout",
     "output_type": "stream",
     "text": [
      "[16  1  7 15  8 14 17  2  0  3 11  5 18 13  9 10  4  6 12]\n",
      "['mood', 'appCat.builtin', 'appCat.other', 'circumplex.valence', 'appCat.social', 'circumplex.arousal', 'screen', 'appCat.communication', 'activity', 'appCat.entertainment', 'appCat.utilities', 'appCat.game', 'sms', 'call', 'appCat.travel', 'appCat.unknown', 'appCat.finance', 'appCat.office', 'appCat.weather']\n"
     ]
    }
   ],
   "source": [
    "print(indices)\n",
    "features_indexs=[]\n",
    "combinatio=dict(zip(range(0,len(col_name)),col_name))\n",
    "indices=indices.tolist()\n",
    "for i in range(0,len(indices)):\n",
    "    a=indices.pop()\n",
    "    feature=combinatio[a]\n",
    "    #print(feature)\n",
    "    features_indexs.append(feature)\n",
    "features_indexs=features_indexs[::-1]\n",
    "print(features_indexs)"
   ]
  },
  {
   "cell_type": "code",
   "execution_count": null,
   "metadata": {},
   "outputs": [
    {
     "name": "stdout",
     "output_type": "stream",
     "text": [
      "19\n",
      "19\n"
     ]
    }
   ],
   "source": [
    "indices = np.argsort(features)[::-1]\n",
    "print(X_train.shape[1])\n",
    "print(len(features_indexs))\n",
    "plt.figure(figsize=(100, 100), dpi=80)\n",
    "plt.title(\"Feature importances\")\n",
    "plt.bar(range(X_train.shape[1]), features[indices], color=\"r\", align=\"center\")\n",
    "plt.xticks(range(X_train.shape[1]), features_indexs)\n",
    "plt.xlim([-1, X_train.shape[1]])\n",
    "plt.show()"
   ]
  },
  {
   "cell_type": "markdown",
   "metadata": {},
   "source": [
    "### Benchmark"
   ]
  },
  {
   "cell_type": "code",
   "execution_count": 27,
   "metadata": {},
   "outputs": [
    {
     "name": "stdout",
     "output_type": "stream",
     "text": [
      "percentage of correctly prediction: 0.5857988165680473\n",
      "\n",
      "\n",
      "0.4600410612185439\n"
     ]
    }
   ],
   "source": [
    "#prediction is the average mood of the previous 3 days\n",
    "prediction=X_test.iloc[:,-3]\n",
    "count=0\n",
    "for i in zip(y_test,prediction):\n",
    "    if (i[1]-i[0])**2 < 0.25:\n",
    "        count+=1\n",
    "performance=count/(len(y_test)-1)\n",
    "print(\"percentage of correctly prediction: \" + str(performance))    \n",
    "print(\"\\n\")\n",
    "print(mean_squared_error(y_test,prediction))"
   ]
  },
  {
   "cell_type": "markdown",
   "metadata": {},
   "source": [
    "## LASSO\n"
   ]
  },
  {
   "cell_type": "code",
   "execution_count": null,
   "metadata": {},
   "outputs": [],
   "source": []
  }
 ],
 "metadata": {
  "kernelspec": {
   "display_name": "Python 3",
   "language": "python",
   "name": "python3"
  },
  "language_info": {
   "codemirror_mode": {
    "name": "ipython",
    "version": 3
   },
   "file_extension": ".py",
   "mimetype": "text/x-python",
   "name": "python",
   "nbconvert_exporter": "python",
   "pygments_lexer": "ipython3",
   "version": "3.7.0"
  }
 },
 "nbformat": 4,
 "nbformat_minor": 2
}
